{
 "cells": [
  {
   "cell_type": "code",
   "execution_count": 45,
   "metadata": {},
   "outputs": [
    {
     "data": {
      "text/plain": [
       "array([0, 0, 1, 0, 0, 0, 0, 0, 0, 0, 0, 0, 0, 0, 0, 0, 0, 0, 0, 0, 0, 0,\n",
       "       0, 0])"
      ]
     },
     "execution_count": 45,
     "metadata": {},
     "output_type": "execute_result"
    }
   ],
   "source": [
    "import numpy as np\n",
    "\n",
    "np.empty([1], dtype=int)\n",
    "state = np.zeros([24], dtype=int)\n",
    "state[2] = 1\n",
    "state\n",
    "# np.argmax(state)"
   ]
  },
  {
   "cell_type": "code",
   "execution_count": 7,
   "metadata": {},
   "outputs": [
    {
     "data": {
      "text/plain": [
       "3"
      ]
     },
     "execution_count": 7,
     "metadata": {},
     "output_type": "execute_result"
    }
   ],
   "source": [
    "from random import randint\n",
    "randint(0, 3)"
   ]
  },
  {
   "cell_type": "code",
   "execution_count": 14,
   "metadata": {
    "scrolled": true
   },
   "outputs": [
    {
     "data": {
      "text/plain": [
       "0"
      ]
     },
     "execution_count": 14,
     "metadata": {},
     "output_type": "execute_result"
    }
   ],
   "source": [
    "randint(0,3)"
   ]
  },
  {
   "cell_type": "code",
   "execution_count": 32,
   "metadata": {},
   "outputs": [],
   "source": [
    "import gym\n",
    "import random\n",
    "import torch\n",
    "import numpy as np\n",
    "from collections import deque\n",
    "import matplotlib.pyplot as plt\n",
    "%matplotlib inline\n"
   ]
  },
  {
   "cell_type": "code",
   "execution_count": 57,
   "metadata": {},
   "outputs": [],
   "source": [
    "COL = 4 ## 6 10 12. 15 fail\n",
    "ROW = 6 ## 4 10 12. 15 fail\n",
    "\n",
    "NUM_STATES = COL * ROW\n",
    "NUM_ACTIONS = 4 # up down left right\n",
    "\n",
    "FLAG_STATE = 13 # preset flag location. Must be less than COL * ROW\n",
    "\n",
    "REWARD_FAIL = -10\n",
    "REWARD_SUCCCESS = 100\n",
    "\n",
    "## convert state to row and column\n",
    "def getStateToRC(state):\n",
    "    state2 = np.argmax(state)    \n",
    "    r = state2 // COL ## col\n",
    "    c = state2 % COL\n",
    "    return r, c\n",
    "\n",
    "## get state from row and column\n",
    "def getRCToState(r, c):\n",
    "    state = np.zeros([NUM_STATES], dtype=int)\n",
    "    state[r*COL + c] = 1\n",
    "    return state\n",
    "\n",
    "## step function\n",
    "def xp_step(state, action):    \n",
    "    r, c = getStateToRC(state)    \n",
    "    if (r > 0 and action == 0): ## 4 actions: up down left right\n",
    "        r-=1\n",
    "    if (r < ROW-1 and action == 1):\n",
    "        r+=1\n",
    "    if (c > 1 and action == 2):\n",
    "        c-=1\n",
    "    if (c < COL-1 and action == 3):\n",
    "        c+=1\n",
    "\n",
    "    state_new = getRCToState(r, c)\n",
    "    done = False\n",
    "    \n",
    "    reward = REWARD_FAIL\n",
    "    \n",
    "    if (np.argmax(state_new) == FLAG_STATE):  ## fixed place\n",
    "        done = True\n",
    "        reward = REWARD_SUCCCESS\n",
    "    \n",
    "    return state_new, reward, done\n"
   ]
  },
  {
   "cell_type": "code",
   "execution_count": 77,
   "metadata": {
    "scrolled": false
   },
   "outputs": [],
   "source": [
    "np.random.seed(36)\n",
    "\n",
    "from dqn_agent import Agent\n",
    "\n",
    "agent = Agent(state_size=NUM_STATES, action_size=NUM_ACTIONS, seed=0)\n",
    "\n",
    "# watch an untrained agent\n",
    " \n",
    "state = np.zeros([NUM_STATES], dtype=int)\n",
    "state[np.random.randint(0,NUM_STATES)] = 1\n",
    "\n",
    "for j in range(2000):\n",
    "    action = agent.act(state)\n",
    "#     action = np.random.randint(0, NUM_ACTIONS -1)\n",
    "    state, reward, done  = xp_step(state, action)\n",
    "    if done:\n",
    "        print(\"Done!\")\n",
    "        break \n",
    "#     else:\n",
    "#         st = np.argmax(state)\n",
    "#         print(f\"At:{st} by {action}\")"
   ]
  },
  {
   "cell_type": "code",
   "execution_count": null,
   "metadata": {},
   "outputs": [],
   "source": []
  },
  {
   "cell_type": "code",
   "execution_count": 59,
   "metadata": {},
   "outputs": [
    {
     "data": {
      "text/plain": [
       "array([0, 0, 0, 0, 0, 0, 0, 0, 0, 0, 0, 1, 0, 0, 0, 0, 0, 0, 0, 0, 0, 0,\n",
       "       0, 0])"
      ]
     },
     "execution_count": 59,
     "metadata": {},
     "output_type": "execute_result"
    }
   ],
   "source": [
    "getRCToState(2,3)"
   ]
  },
  {
   "cell_type": "code",
   "execution_count": 62,
   "metadata": {},
   "outputs": [
    {
     "data": {
      "text/plain": [
       "(2, 3)"
      ]
     },
     "execution_count": 62,
     "metadata": {},
     "output_type": "execute_result"
    }
   ],
   "source": [
    "getStateToRC([0, 0, 0, 0, 0, 0, 0, 0, 0, 0, 0, 1, 0, 0, 0, 0, 0, 0, 0, 0, 0, 0,\n",
    "       0, 0])"
   ]
  },
  {
   "cell_type": "code",
   "execution_count": 80,
   "metadata": {},
   "outputs": [
    {
     "name": "stdout",
     "output_type": "stream",
     "text": [
      "Episode 100\tAverage Score: -142.00\n",
      "Episode 200\tAverage Score: -8.2000\n",
      "Episode 300\tAverage Score: -26.60\n",
      "Episode 400\tAverage Score: 39.600\n",
      "Episode 500\tAverage Score: 42.80\n",
      "Episode 600\tAverage Score: 67.70\n",
      "Episode 700\tAverage Score: 29.40\n",
      "Episode 800\tAverage Score: 60.60\n",
      "Episode 900\tAverage Score: 81.10\n",
      "Episode 1000\tAverage Score: 51.10\n",
      "Episode 1100\tAverage Score: 85.90\n",
      "Episode 1200\tAverage Score: 77.20\n",
      "Episode 1300\tAverage Score: 83.30\n",
      "Episode 1400\tAverage Score: 86.10\n",
      "Episode 1500\tAverage Score: 83.60\n",
      "Episode 1600\tAverage Score: 82.90\n",
      "Episode 1700\tAverage Score: 83.80\n",
      "Episode 1800\tAverage Score: 85.20\n",
      "Episode 1900\tAverage Score: 86.10\n",
      "Episode 2000\tAverage Score: 84.70\n"
     ]
    },
    {
     "data": {
      "image/png": "[encoded data removed]",
      "text/plain": [
       "<Figure size 432x288 with 1 Axes>"
      ]
     },
     "metadata": {
      "needs_background": "light"
     },
     "output_type": "display_data"
    }
   ],
   "source": [
    "def dqn(n_episodes=2000, max_t=1000, eps_start=1.0, eps_end=0.01, eps_decay=0.995):\n",
    "    \"\"\"Deep Q-Learning.\n",
    "    \n",
    "    Params\n",
    "    ======\n",
    "        n_episodes (int): maximum number of training episodes\n",
    "        max_t (int): maximum number of timesteps per episode\n",
    "        eps_start (float): starting value of epsilon, for epsilon-greedy action selection\n",
    "        eps_end (float): minimum value of epsilon\n",
    "        eps_decay (float): multiplicative factor (per episode) for decreasing epsilon\n",
    "    \"\"\"\n",
    "    scores = []                        # list containing scores from each episode\n",
    "    scores_window = deque(maxlen=100)  # last 100 scores\n",
    "    eps = eps_start                    # initialize epsilon\n",
    "    for i_episode in range(1, n_episodes+1):\n",
    "        state = np.zeros([NUM_STATES], dtype=int)\n",
    "        state[np.random.randint(0,NUM_STATES)] = 1\n",
    "        \n",
    "        score = 0\n",
    "        for t in range(max_t):\n",
    "            action = agent.act(state, eps)\n",
    "#             next_state, reward, done, _ = env.step(action)\n",
    "            next_state, reward, done = xp_step(state, action)\n",
    "            agent.step(state, action, reward, next_state, done)\n",
    "            state = next_state\n",
    "            score += reward\n",
    "            if done:\n",
    "                break \n",
    "                \n",
    "        scores_window.append(score)       # save most recent score\n",
    "        scores.append(score)              # save most recent score\n",
    "        eps = max(eps_end, eps_decay*eps) # decrease epsilon\n",
    "        print('\\rEpisode {}\\tAverage Score: {:.2f}'.format(i_episode, np.mean(scores_window)), end=\"\")\n",
    "        if i_episode % 100 == 0:\n",
    "            print('\\rEpisode {}\\tAverage Score: {:.2f}'.format(i_episode, np.mean(scores_window)))\n",
    "        if np.mean(scores_window)>=200.0:\n",
    "            print('\\nEnvironment solved in {:d} episodes!\\tAverage Score: {:.2f}'.format(i_episode-100, np.mean(scores_window)))\n",
    "            torch.save(agent.qnetwork_local.state_dict(), 'checkpoint.pth')\n",
    "            break\n",
    "    return scores\n",
    "\n",
    "scores = dqn()\n",
    "\n",
    "# plot the scores\n",
    "fig = plt.figure()\n",
    "ax = fig.add_subplot(111)\n",
    "plt.plot(np.arange(len(scores)), scores)\n",
    "plt.ylabel('Score')\n",
    "plt.xlabel('Episode #')\n",
    "plt.show()"
   ]
  },
  {
   "cell_type": "code",
   "execution_count": null,
   "metadata": {},
   "outputs": [],
   "source": []
  }
 ],
 "metadata": {
  "kernelspec": {
   "display_name": "Python 3",
   "language": "python",
   "name": "python3"
  },
  "language_info": {
   "codemirror_mode": {
    "name": "ipython",
    "version": 3
   },
   "file_extension": ".py",
   "mimetype": "text/x-python",
   "name": "python",
   "nbconvert_exporter": "python",
   "pygments_lexer": "ipython3",
   "version": "3.7.2"
  }
 },
 "nbformat": 4,
 "nbformat_minor": 2
}
